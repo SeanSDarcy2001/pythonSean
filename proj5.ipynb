{
  "nbformat": 4,
  "nbformat_minor": 0,
  "metadata": {
    "colab": {
      "name": "proj5.ipynb",
      "provenance": [],
      "authorship_tag": "ABX9TyOlhksb5kQDHz35tiGfi5e+",
      "include_colab_link": true
    },
    "kernelspec": {
      "name": "python3",
      "display_name": "Python 3"
    },
    "language_info": {
      "name": "python"
    }
  },
  "cells": [
    {
      "cell_type": "markdown",
      "metadata": {
        "id": "view-in-github",
        "colab_type": "text"
      },
      "source": [
        "<a href=\"https://colab.research.google.com/github/ds4ph-bme/project-5-SeanSDarcy2001/blob/main/proj5.ipynb\" target=\"_parent\"><img src=\"https://colab.research.google.com/assets/colab-badge.svg\" alt=\"Open In Colab\"/></a>"
      ]
    },
    {
      "cell_type": "code",
      "metadata": {
        "colab": {
          "base_uri": "https://localhost:8080/",
          "height": 387
        },
        "id": "TsOoV-ScOxZL",
        "outputId": "02a5bd43-4f70-4a0a-b695-b3df68824c31"
      },
      "source": [
        "import pandas as pd\n",
        "import numpy as np\n",
        "import torch\n",
        "import statsmodels.formula.api as smf\n",
        "import statsmodels as sm\n",
        "import seaborn as sns\n",
        "import matplotlib.pyplot as plt\n",
        "\n",
        "dat = pd.read_csv(\"https://raw.githubusercontent.com/bcaffo/ds4bme_intro/master/data/oasis.csv\")\n",
        "\n",
        " \n",
        "m = np.median(dat.GOLD_Lesions)\n",
        "dat = dat.assign(y = (dat.GOLD_Lesions > m) * 1 )\n",
        "dat = dat.assign(x = (dat.T2 - np.mean(dat.T2)) / np.std(dat.T2))\n",
        "dat.head()\n",
        "fit = smf.logit('y ~ x', data = dat).fit()\n",
        "fit.summary()\n",
        "\n",
        "yhat = 1 / (1 + np.exp(-fit.fittedvalues))\n",
        "\n",
        "n = dat.shape[0]\n",
        "\n",
        "xtraining = torch.from_numpy(dat['x'].values)\n",
        "ytraining = torch.from_numpy(dat['y'].values)\n",
        "\n",
        "xtraining = xtraining.float()\n",
        "ytraining = ytraining.float()\n",
        "\n",
        "xtraining = xtraining.unsqueeze(1)\n",
        "ytraining = ytraining.unsqueeze(1)\n",
        "\n",
        "class LogisticRegression(torch.nn.Module):\n",
        "  def __init__(self):\n",
        "    super(LogisticRegression, self).__init__()\n",
        "    self.linear = torch.nn.Linear(1, 1, bias = True)\n",
        "  def forward(self, x):\n",
        "    y_pred = torch.sigmoid(self.linear(x))\n",
        "    return y_pred\n",
        "\n",
        "model = LogisticRegression()\n",
        "\n",
        "lossFunc = torch.nn.BCELoss(reduction ='sum')\n",
        "\n",
        "opt = torch.optim.SGD(model.parameters(), lr=1e-4)\n",
        "\n",
        "for i in range(10000) :\n",
        "  \n",
        "  #fwd prop\n",
        "  y_pred = model(xtraining)\n",
        "\n",
        "  loss = lossFunc(y_pred, ytraining)\n",
        "\n",
        "  opt.zero_grad()\n",
        "\n",
        "  loss.backward()\n",
        "\n",
        "  opt.step()\n",
        "\n",
        "ytest = model(xtraining)\n",
        "ytest = ytest.detach().numpy().reshape(-1)\n",
        "plt.plot(yhat, ytest,  \".\")\n",
        "plt.plot([0, 1], [0, 1], linewidth=2)\n",
        "\n",
        "\n",
        "\n",
        "\n"
      ],
      "execution_count": 2,
      "outputs": [
        {
          "output_type": "stream",
          "name": "stderr",
          "text": [
            "/usr/local/lib/python3.7/dist-packages/statsmodels/tools/_testing.py:19: FutureWarning: pandas.util.testing is deprecated. Use the functions in the public API at pandas.testing instead.\n",
            "  import pandas.util.testing as tm\n"
          ]
        },
        {
          "output_type": "stream",
          "name": "stdout",
          "text": [
            "Optimization terminated successfully.\n",
            "         Current function value: 0.687421\n",
            "         Iterations 4\n"
          ]
        },
        {
          "output_type": "execute_result",
          "data": {
            "text/plain": [
              "[<matplotlib.lines.Line2D at 0x7fb7abeae590>]"
            ]
          },
          "metadata": {},
          "execution_count": 2
        },
        {
          "output_type": "display_data",
          "data": {
            "image/png": "[encoded data removed]",
            "text/plain": [
              "<Figure size 432x288 with 1 Axes>"
            ]
          },
          "metadata": {
            "needs_background": "light"
          }
        }
      ]
    },
    {
      "cell_type": "code",
      "metadata": {
        "colab": {
          "base_uri": "https://localhost:8080/"
        },
        "id": "q1ekz7livTus",
        "outputId": "bc8f1e45-caca-46e0-8c51-8cd4701a476a"
      },
      "source": [
        "dat = pd.read_csv('https://raw.githubusercontent.com/tidyverse/ggplot2/master/data-raw/diamonds.csv')\n",
        "\n",
        "\n",
        "def oneHotEncode(data):\n",
        "  cat = np.unique(data)\n",
        "  one_hot_df = pd.DataFrame(np.zeros((53940,len(cat))))\n",
        "  one_hot_df.columns = cat\n",
        "\n",
        "  for c in cat:\n",
        "    for row in range(len(data)) :  \n",
        "      if (data[row] == c):\n",
        "        one_hot_df.loc[row, c] = 1 \n",
        "  \n",
        "  return one_hot_df\n",
        "\n",
        "\n",
        "cut_column = dat[['cut']].to_numpy()\n",
        "one_hot_cut = oneHotEncode(cut_column)\n",
        "\n",
        "color_column = dat[['color']].to_numpy()\n",
        "one_hot_color = oneHotEncode(color_column)\n",
        "\n",
        "clarity_column = dat[['clarity']].to_numpy()\n",
        "one_hot_clarity = oneHotEncode(clarity_column)\n"
      ],
      "execution_count": 27,
      "outputs": [
        {
          "output_type": "stream",
          "name": "stdout",
          "text": [
            "   Fair  Good  Ideal  Premium  Very Good\n",
            "0   0.0   0.0    1.0      0.0        0.0\n",
            "1   0.0   0.0    0.0      1.0        0.0\n",
            "2   0.0   1.0    0.0      0.0        0.0\n",
            "3   0.0   0.0    0.0      1.0        0.0\n",
            "4   0.0   1.0    0.0      0.0        0.0\n",
            "     D    E    F    G    H    I    J\n",
            "0  0.0  1.0  0.0  0.0  0.0  0.0  0.0\n",
            "1  0.0  1.0  0.0  0.0  0.0  0.0  0.0\n",
            "2  0.0  1.0  0.0  0.0  0.0  0.0  0.0\n",
            "3  0.0  0.0  0.0  0.0  0.0  1.0  0.0\n",
            "4  0.0  0.0  0.0  0.0  0.0  0.0  1.0\n",
            "    I1   IF  SI1  SI2  VS1  VS2  VVS1  VVS2\n",
            "0  0.0  0.0  0.0  1.0  0.0  0.0   0.0   0.0\n",
            "1  0.0  0.0  1.0  0.0  0.0  0.0   0.0   0.0\n",
            "2  0.0  0.0  0.0  0.0  1.0  0.0   0.0   0.0\n",
            "3  0.0  0.0  0.0  0.0  0.0  1.0   0.0   0.0\n",
            "4  0.0  0.0  0.0  1.0  0.0  0.0   0.0   0.0\n"
          ]
        }
      ]
    },
    {
      "cell_type": "code",
      "metadata": {
        "colab": {
          "base_uri": "https://localhost:8080/",
          "height": 204
        },
        "id": "up05pudR6Zka",
        "outputId": "326c246f-9fd3-44c8-b881-c83679723610"
      },
      "source": [
        "df = dat[['carat', 'price']]\n",
        "df = pd.concat([df, one_hot_cut, one_hot_color, one_hot_clarity], axis=1)\n",
        "\n",
        "p = (df.price - np.mean(df.price)) / np.std(df.price)\n",
        "df.price = p\n",
        "\n",
        "p = (df.carat - np.mean(df.carat)) / np.std(df.carat)\n",
        "df.carat = p\n",
        "df.head()"
      ],
      "execution_count": 33,
      "outputs": [
        {
          "output_type": "execute_result",
          "data": {
            "text/html": [
              "<div>\n",
              "<style scoped>\n",
              "    .dataframe tbody tr th:only-of-type {\n",
              "        vertical-align: middle;\n",
              "    }\n",
              "\n",
              "    .dataframe tbody tr th {\n",
              "        vertical-align: top;\n",
              "    }\n",
              "\n",
              "    .dataframe thead th {\n",
              "        text-align: right;\n",
              "    }\n",
              "</style>\n",
              "<table border=\"1\" class=\"dataframe\">\n",
              "  <thead>\n",
              "    <tr style=\"text-align: right;\">\n",
              "      <th></th>\n",
              "      <th>carat</th>\n",
              "      <th>price</th>\n",
              "      <th>Fair</th>\n",
              "      <th>Good</th>\n",
              "      <th>Ideal</th>\n",
              "      <th>Premium</th>\n",
              "      <th>Very Good</th>\n",
              "      <th>D</th>\n",
              "      <th>E</th>\n",
              "      <th>F</th>\n",
              "      <th>G</th>\n",
              "      <th>H</th>\n",
              "      <th>I</th>\n",
              "      <th>J</th>\n",
              "      <th>I1</th>\n",
              "      <th>IF</th>\n",
              "      <th>SI1</th>\n",
              "      <th>SI2</th>\n",
              "      <th>VS1</th>\n",
              "      <th>VS2</th>\n",
              "      <th>VVS1</th>\n",
              "      <th>VVS2</th>\n",
              "    </tr>\n",
              "  </thead>\n",
              "  <tbody>\n",
              "    <tr>\n",
              "      <th>0</th>\n",
              "      <td>-1.198168</td>\n",
              "      <td>-0.904095</td>\n",
              "      <td>0.0</td>\n",
              "      <td>0.0</td>\n",
              "      <td>1.0</td>\n",
              "      <td>0.0</td>\n",
              "      <td>0.0</td>\n",
              "      <td>0.0</td>\n",
              "      <td>1.0</td>\n",
              "      <td>0.0</td>\n",
              "      <td>0.0</td>\n",
              "      <td>0.0</td>\n",
              "      <td>0.0</td>\n",
              "      <td>0.0</td>\n",
              "      <td>0.0</td>\n",
              "      <td>0.0</td>\n",
              "      <td>0.0</td>\n",
              "      <td>1.0</td>\n",
              "      <td>0.0</td>\n",
              "      <td>0.0</td>\n",
              "      <td>0.0</td>\n",
              "      <td>0.0</td>\n",
              "    </tr>\n",
              "    <tr>\n",
              "      <th>1</th>\n",
              "      <td>-1.240361</td>\n",
              "      <td>-0.904095</td>\n",
              "      <td>0.0</td>\n",
              "      <td>0.0</td>\n",
              "      <td>0.0</td>\n",
              "      <td>1.0</td>\n",
              "      <td>0.0</td>\n",
              "      <td>0.0</td>\n",
              "      <td>1.0</td>\n",
              "      <td>0.0</td>\n",
              "      <td>0.0</td>\n",
              "      <td>0.0</td>\n",
              "      <td>0.0</td>\n",
              "      <td>0.0</td>\n",
              "      <td>0.0</td>\n",
              "      <td>0.0</td>\n",
              "      <td>1.0</td>\n",
              "      <td>0.0</td>\n",
              "      <td>0.0</td>\n",
              "      <td>0.0</td>\n",
              "      <td>0.0</td>\n",
              "      <td>0.0</td>\n",
              "    </tr>\n",
              "    <tr>\n",
              "      <th>2</th>\n",
              "      <td>-1.198168</td>\n",
              "      <td>-0.903844</td>\n",
              "      <td>0.0</td>\n",
              "      <td>1.0</td>\n",
              "      <td>0.0</td>\n",
              "      <td>0.0</td>\n",
              "      <td>0.0</td>\n",
              "      <td>0.0</td>\n",
              "      <td>1.0</td>\n",
              "      <td>0.0</td>\n",
              "      <td>0.0</td>\n",
              "      <td>0.0</td>\n",
              "      <td>0.0</td>\n",
              "      <td>0.0</td>\n",
              "      <td>0.0</td>\n",
              "      <td>0.0</td>\n",
              "      <td>0.0</td>\n",
              "      <td>0.0</td>\n",
              "      <td>1.0</td>\n",
              "      <td>0.0</td>\n",
              "      <td>0.0</td>\n",
              "      <td>0.0</td>\n",
              "    </tr>\n",
              "    <tr>\n",
              "      <th>3</th>\n",
              "      <td>-1.071587</td>\n",
              "      <td>-0.902090</td>\n",
              "      <td>0.0</td>\n",
              "      <td>0.0</td>\n",
              "      <td>0.0</td>\n",
              "      <td>1.0</td>\n",
              "      <td>0.0</td>\n",
              "      <td>0.0</td>\n",
              "      <td>0.0</td>\n",
              "      <td>0.0</td>\n",
              "      <td>0.0</td>\n",
              "      <td>0.0</td>\n",
              "      <td>1.0</td>\n",
              "      <td>0.0</td>\n",
              "      <td>0.0</td>\n",
              "      <td>0.0</td>\n",
              "      <td>0.0</td>\n",
              "      <td>0.0</td>\n",
              "      <td>0.0</td>\n",
              "      <td>1.0</td>\n",
              "      <td>0.0</td>\n",
              "      <td>0.0</td>\n",
              "    </tr>\n",
              "    <tr>\n",
              "      <th>4</th>\n",
              "      <td>-1.029394</td>\n",
              "      <td>-0.901839</td>\n",
              "      <td>0.0</td>\n",
              "      <td>1.0</td>\n",
              "      <td>0.0</td>\n",
              "      <td>0.0</td>\n",
              "      <td>0.0</td>\n",
              "      <td>0.0</td>\n",
              "      <td>0.0</td>\n",
              "      <td>0.0</td>\n",
              "      <td>0.0</td>\n",
              "      <td>0.0</td>\n",
              "      <td>0.0</td>\n",
              "      <td>1.0</td>\n",
              "      <td>0.0</td>\n",
              "      <td>0.0</td>\n",
              "      <td>0.0</td>\n",
              "      <td>1.0</td>\n",
              "      <td>0.0</td>\n",
              "      <td>0.0</td>\n",
              "      <td>0.0</td>\n",
              "      <td>0.0</td>\n",
              "    </tr>\n",
              "  </tbody>\n",
              "</table>\n",
              "</div>"
            ],
            "text/plain": [
              "      carat     price  Fair  Good  Ideal  ...  SI2  VS1  VS2  VVS1  VVS2\n",
              "0 -1.198168 -0.904095   0.0   0.0    1.0  ...  1.0  0.0  0.0   0.0   0.0\n",
              "1 -1.240361 -0.904095   0.0   0.0    0.0  ...  0.0  0.0  0.0   0.0   0.0\n",
              "2 -1.198168 -0.903844   0.0   1.0    0.0  ...  0.0  1.0  0.0   0.0   0.0\n",
              "3 -1.071587 -0.902090   0.0   0.0    0.0  ...  0.0  0.0  1.0   0.0   0.0\n",
              "4 -1.029394 -0.901839   0.0   1.0    0.0  ...  1.0  0.0  0.0   0.0   0.0\n",
              "\n",
              "[5 rows x 22 columns]"
            ]
          },
          "metadata": {},
          "execution_count": 33
        }
      ]
    },
    {
      "cell_type": "code",
      "metadata": {
        "colab": {
          "base_uri": "https://localhost:8080/",
          "height": 282
        },
        "id": "-EPOHQ5o1G9e",
        "outputId": "e3baa164-78ce-4926-d921-1f13fb93eb44"
      },
      "source": [
        "trainFraction = .75\n",
        "sample = np.random.uniform(size = 53940) < trainFraction\n",
        "trainingDat = df[sample]\n",
        "testingDat = df[~sample]\n",
        "\n",
        "x = df.drop(['price'], axis=1)\n",
        "y = df.price\n",
        "\n",
        "xtraining = x[sample]\n",
        "xtesting = x[~sample]\n",
        "ytraining = y[sample]\n",
        "ytesting = y[~sample]\n",
        "\n",
        "xtraining = torch.from_numpy(pd.DataFrame.to_numpy(xtraining)).float()\n",
        "xtesting = torch.from_numpy(pd.DataFrame.to_numpy(xtesting)).float()\n",
        "ytraining = torch.from_numpy(pd.DataFrame.to_numpy(ytraining)).float().unsqueeze(1)\n",
        "ytesting = torch.from_numpy(pd.DataFrame.to_numpy(ytesting)).float().unsqueeze(1)\n",
        "\n",
        "#print((xtesting))\n",
        "#print((ytesting))\n",
        "\n",
        "H1 = 3\n",
        "H2 = 5\n",
        "D_in = xtraining.size()[1]\n",
        "D_out = 1\n",
        "\n",
        "model = torch.nn.Sequential(\n",
        "    torch.nn.Linear(D_in, H1, bias=True),\n",
        "    torch.nn.ReLU(),\n",
        "    torch.nn.Linear(H1, H2, bias=True),\n",
        "    torch.nn.ReLU(),\n",
        "    torch.nn.Linear(H2, D_out, bias=True),\n",
        ")\n",
        "\n",
        "lossFunc = torch.nn.MSELoss(reduction='sum')\n",
        "opti = torch.optim.Adam(model.parameters())\n",
        "\n",
        "learning_rate = 1e-4\n",
        "for t in range(50000):\n",
        "    y_pred = model(xtraining)\n",
        "    loss = lossFunc(y_pred, ytraining)\n",
        "    # if t % 100 == 99:\n",
        "    #     print(t, loss.item())\n",
        "    opti.zero_grad()\n",
        "    loss.backward()\n",
        "    opti.step()\n",
        "\n",
        "ytesting_pred = model(xtesting)\n",
        "a = ytesting_pred.detach().numpy()\n",
        "b = ytesting.detach().numpy()\n",
        "\n",
        "plt.scatter(a[:,0], ytesting[:,0])\n",
        "\n",
        "\n",
        "\n",
        "print(\"RMSE:\", np.sqrt(((a - b) ** 2).mean()))\n",
        "\n",
        "\n",
        "\n",
        "\n"
      ],
      "execution_count": 59,
      "outputs": [
        {
          "output_type": "stream",
          "name": "stdout",
          "text": [
            "RMSE: 0.14704676\n"
          ]
        },
        {
          "output_type": "display_data",
          "data": {
            "image/png": "[encoded data removed]",
            "text/plain": [
              "<Figure size 432x288 with 1 Axes>"
            ]
          },
          "metadata": {
            "needs_background": "light"
          }
        }
      ]
    },
    {
      "cell_type": "code",
      "metadata": {
        "colab": {
          "base_uri": "https://localhost:8080/"
        },
        "id": "olTuZ_dN9j6l",
        "outputId": "272f9112-ba00-407f-8626-d1ffc989e602"
      },
      "source": [
        "print(xtraining.size()[1])"
      ],
      "execution_count": 14,
      "outputs": [
        {
          "output_type": "stream",
          "name": "stdout",
          "text": [
            "23\n"
          ]
        }
      ]
    }
  ]
}